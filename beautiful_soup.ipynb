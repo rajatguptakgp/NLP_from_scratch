{
 "cells": [
  {
   "cell_type": "code",
   "execution_count": 1,
   "metadata": {},
   "outputs": [],
   "source": [
    "import requests\n",
    "import pandas as pd\n",
    "from bs4 import BeautifulSoup"
   ]
  },
  {
   "cell_type": "code",
   "execution_count": 2,
   "metadata": {},
   "outputs": [
    {
     "data": {
      "text/plain": [
       "<html>\n",
       "<head>\n",
       "</head><body>\n",
       "<h1> Understanding Beautiful Soup</h1>\n",
       "<h2> ML Life Cycle</h2>\n",
       "<ol id=\"ordered list\">\n",
       "<li>Exploratory Data Analysis</li>\n",
       "<li>Feature Engineering</li>\n",
       "<li>Model Training and Testing</li>\n",
       "<li>Model Deployment</li>\n",
       "</ol>\n",
       "</body>\n",
       "</html>"
      ]
     },
     "execution_count": 2,
     "metadata": {},
     "output_type": "execute_result"
    }
   ],
   "source": [
    "with open('soup.html') as f:\n",
    "    soup = BeautifulSoup(f,'lxml')\n",
    "\n",
    "soup    "
   ]
  },
  {
   "cell_type": "code",
   "execution_count": 3,
   "metadata": {},
   "outputs": [
    {
     "data": {
      "text/plain": [
       "<ol id=\"ordered list\">\n",
       "<li>Exploratory Data Analysis</li>\n",
       "<li>Feature Engineering</li>\n",
       "<li>Model Training and Testing</li>\n",
       "<li>Model Deployment</li>\n",
       "</ol>"
      ]
     },
     "execution_count": 3,
     "metadata": {},
     "output_type": "execute_result"
    }
   ],
   "source": [
    "# finding tags by name\n",
    "soup.find('ol')"
   ]
  },
  {
   "cell_type": "code",
   "execution_count": 4,
   "metadata": {},
   "outputs": [
    {
     "data": {
      "text/plain": [
       "<ol id=\"ordered list\">\n",
       "<li>Exploratory Data Analysis</li>\n",
       "<li>Feature Engineering</li>\n",
       "<li>Model Training and Testing</li>\n",
       "<li>Model Deployment</li>\n",
       "</ol>"
      ]
     },
     "execution_count": 4,
     "metadata": {},
     "output_type": "execute_result"
    }
   ],
   "source": [
    "# if there are multiple similar tags, search using specific attributes\n",
    "# finding tags by attributes\n",
    "soup.find(attrs={'id':'ordered list'})"
   ]
  },
  {
   "cell_type": "code",
   "execution_count": 5,
   "metadata": {},
   "outputs": [
    {
     "data": {
      "text/plain": [
       "['Exploratory Data Analysis',\n",
       " 'Feature Engineering',\n",
       " 'Model Training and Testing',\n",
       " 'Model Deployment']"
      ]
     },
     "execution_count": 5,
     "metadata": {},
     "output_type": "execute_result"
    }
   ],
   "source": [
    "# finding all items\n",
    "# extracts all items regardless of how deeply nested they are\n",
    "items = soup.find_all('li', recursive=True)\n",
    "items = [item.get_text() for item in items]\n",
    "items"
   ]
  },
  {
   "cell_type": "markdown",
   "metadata": {},
   "source": [
    "## Example 1: Extracting tabular data from Wikipedia"
   ]
  },
  {
   "cell_type": "code",
   "execution_count": 6,
   "metadata": {},
   "outputs": [
    {
     "data": {
      "text/plain": [
       "<Response [200]>"
      ]
     },
     "execution_count": 6,
     "metadata": {},
     "output_type": "execute_result"
    }
   ],
   "source": [
    "# requests library helps in downloading source code of the url\n",
    "url = 'https://en.wikipedia.org/wiki/List_of_most-followed_Instagram_accounts'\n",
    "result = requests.get(url)\n",
    "\n",
    "# checking status code whether downloading was successful or not\n",
    "result"
   ]
  },
  {
   "cell_type": "code",
   "execution_count": 7,
   "metadata": {},
   "outputs": [
    {
     "data": {
      "text/plain": [
       "52"
      ]
     },
     "execution_count": 7,
     "metadata": {},
     "output_type": "execute_result"
    }
   ],
   "source": [
    "soup = BeautifulSoup(result.content, 'lxml')\n",
    "table = soup.find('table')\n",
    "rows = table.find_all('tr')\n",
    "\n",
    "len(rows)"
   ]
  },
  {
   "cell_type": "code",
   "execution_count": 8,
   "metadata": {},
   "outputs": [],
   "source": [
    "def get_data(row):\n",
    "    items = [] \n",
    "    for item in row:\n",
    "        items.append(item.get_text().strip())    \n",
    "    return items\n",
    "\n",
    "\n",
    "data = []\n",
    "for row in rows[1:-1]:\n",
    "    row = row.find_all(['td','th'])\n",
    "    data.append(get_data(row))"
   ]
  },
  {
   "cell_type": "code",
   "execution_count": 9,
   "metadata": {},
   "outputs": [
    {
     "data": {
      "text/html": [
       "<div>\n",
       "<style scoped>\n",
       "    .dataframe tbody tr th:only-of-type {\n",
       "        vertical-align: middle;\n",
       "    }\n",
       "\n",
       "    .dataframe tbody tr th {\n",
       "        vertical-align: top;\n",
       "    }\n",
       "\n",
       "    .dataframe thead th {\n",
       "        text-align: right;\n",
       "    }\n",
       "</style>\n",
       "<table border=\"1\" class=\"dataframe\">\n",
       "  <thead>\n",
       "    <tr style=\"text-align: right;\">\n",
       "      <th></th>\n",
       "      <th>rank</th>\n",
       "      <th>username</th>\n",
       "      <th>owner</th>\n",
       "      <th>followers</th>\n",
       "      <th>profession/activity</th>\n",
       "      <th>country/continent</th>\n",
       "    </tr>\n",
       "  </thead>\n",
       "  <tbody>\n",
       "    <tr>\n",
       "      <th>0</th>\n",
       "      <td>1</td>\n",
       "      <td>@instagram</td>\n",
       "      <td>Instagram</td>\n",
       "      <td>437</td>\n",
       "      <td>Social media platform</td>\n",
       "      <td>United States</td>\n",
       "    </tr>\n",
       "    <tr>\n",
       "      <th>1</th>\n",
       "      <td>2</td>\n",
       "      <td>@cristiano</td>\n",
       "      <td>Cristiano Ronaldo</td>\n",
       "      <td>361</td>\n",
       "      <td>Footballer</td>\n",
       "      <td>Portugal</td>\n",
       "    </tr>\n",
       "    <tr>\n",
       "      <th>2</th>\n",
       "      <td>3</td>\n",
       "      <td>@leomessi</td>\n",
       "      <td>Lionel Messi</td>\n",
       "      <td>278</td>\n",
       "      <td>Footballer</td>\n",
       "      <td>Argentina</td>\n",
       "    </tr>\n",
       "    <tr>\n",
       "      <th>3</th>\n",
       "      <td>4</td>\n",
       "      <td>@kyliejenner</td>\n",
       "      <td>Kylie Jenner</td>\n",
       "      <td>278</td>\n",
       "      <td>Television personality, model, and businesswoman</td>\n",
       "      <td>United States</td>\n",
       "    </tr>\n",
       "    <tr>\n",
       "      <th>4</th>\n",
       "      <td>5</td>\n",
       "      <td>@therock</td>\n",
       "      <td>Dwayne Johnson</td>\n",
       "      <td>276</td>\n",
       "      <td>Actor and professional wrestler</td>\n",
       "      <td>United States</td>\n",
       "    </tr>\n",
       "  </tbody>\n",
       "</table>\n",
       "</div>"
      ],
      "text/plain": [
       "  rank      username              owner followers  \\\n",
       "0    1    @instagram          Instagram       437   \n",
       "1    2    @cristiano  Cristiano Ronaldo       361   \n",
       "2    3     @leomessi       Lionel Messi       278   \n",
       "3    4  @kyliejenner       Kylie Jenner       278   \n",
       "4    5      @therock     Dwayne Johnson       276   \n",
       "\n",
       "                                profession/activity country/continent  \n",
       "0                             Social media platform     United States  \n",
       "1                                        Footballer          Portugal  \n",
       "2                                        Footballer         Argentina  \n",
       "3  Television personality, model, and businesswoman     United States  \n",
       "4                   Actor and professional wrestler     United States  "
      ]
     },
     "execution_count": 9,
     "metadata": {},
     "output_type": "execute_result"
    }
   ],
   "source": [
    "df = pd.DataFrame(data, columns = ['rank','username','owner','followers','profession/activity','country/continent'])\n",
    "df.head()"
   ]
  },
  {
   "cell_type": "code",
   "execution_count": 10,
   "metadata": {},
   "outputs": [],
   "source": [
    "df.to_csv('instagram.csv',index=False)"
   ]
  },
  {
   "cell_type": "markdown",
   "metadata": {},
   "source": [
    "## Example 2: Extracting articles from webpage"
   ]
  },
  {
   "cell_type": "code",
   "execution_count": 11,
   "metadata": {},
   "outputs": [
    {
     "data": {
      "text/plain": [
       "<Response [200]>"
      ]
     },
     "execution_count": 11,
     "metadata": {},
     "output_type": "execute_result"
    }
   ],
   "source": [
    "url = 'https://coreyms.com/'\n",
    "result = requests.get(url)\n",
    "result"
   ]
  },
  {
   "cell_type": "code",
   "execution_count": 12,
   "metadata": {},
   "outputs": [
    {
     "data": {
      "text/plain": [
       "10"
      ]
     },
     "execution_count": 12,
     "metadata": {},
     "output_type": "execute_result"
    }
   ],
   "source": [
    "soup = BeautifulSoup(result.content, 'lxml')\n",
    "articles = soup.find_all('article')\n",
    "\n",
    "len(articles)"
   ]
  },
  {
   "cell_type": "code",
   "execution_count": 13,
   "metadata": {},
   "outputs": [],
   "source": [
    "def get_details(article):\n",
    "    title = article.find_all('h2')[0].get_text()\n",
    "    link = article.find_all('h2')[0].a.get('href')\n",
    "    description = article.find_all('div')[0].get_text().strip()\n",
    "\n",
    "    return [title, link, description]\n",
    "\n",
    "data = []\n",
    "for article in articles:\n",
    "    data.append(get_details(article))"
   ]
  },
  {
   "cell_type": "code",
   "execution_count": 14,
   "metadata": {},
   "outputs": [
    {
     "data": {
      "text/html": [
       "<div>\n",
       "<style scoped>\n",
       "    .dataframe tbody tr th:only-of-type {\n",
       "        vertical-align: middle;\n",
       "    }\n",
       "\n",
       "    .dataframe tbody tr th {\n",
       "        vertical-align: top;\n",
       "    }\n",
       "\n",
       "    .dataframe thead th {\n",
       "        text-align: right;\n",
       "    }\n",
       "</style>\n",
       "<table border=\"1\" class=\"dataframe\">\n",
       "  <thead>\n",
       "    <tr style=\"text-align: right;\">\n",
       "      <th></th>\n",
       "      <th>title</th>\n",
       "      <th>link</th>\n",
       "      <th>description</th>\n",
       "    </tr>\n",
       "  </thead>\n",
       "  <tbody>\n",
       "    <tr>\n",
       "      <th>0</th>\n",
       "      <td>Python Tutorial: Zip Files – Creating and Extr...</td>\n",
       "      <td>https://coreyms.com/development/python/python-...</td>\n",
       "      <td>In this video, we will be learning how to crea...</td>\n",
       "    </tr>\n",
       "    <tr>\n",
       "      <th>1</th>\n",
       "      <td>Python Data Science Tutorial: Analyzing the 20...</td>\n",
       "      <td>https://coreyms.com/development/python/python-...</td>\n",
       "      <td>In this Python Programming video, we will be l...</td>\n",
       "    </tr>\n",
       "    <tr>\n",
       "      <th>2</th>\n",
       "      <td>Python Multiprocessing Tutorial: Run Code in P...</td>\n",
       "      <td>https://coreyms.com/development/python/python-...</td>\n",
       "      <td>In this Python Programming video, we will be l...</td>\n",
       "    </tr>\n",
       "    <tr>\n",
       "      <th>3</th>\n",
       "      <td>Python Threading Tutorial: Run Code Concurrent...</td>\n",
       "      <td>https://coreyms.com/development/python/python-...</td>\n",
       "      <td>In this Python Programming video, we will be l...</td>\n",
       "    </tr>\n",
       "    <tr>\n",
       "      <th>4</th>\n",
       "      <td>Update (2019-09-03)</td>\n",
       "      <td>https://coreyms.com/general/update-2019-09-03</td>\n",
       "      <td>Hey everyone. I wanted to give you an update o...</td>\n",
       "    </tr>\n",
       "  </tbody>\n",
       "</table>\n",
       "</div>"
      ],
      "text/plain": [
       "                                               title  \\\n",
       "0  Python Tutorial: Zip Files – Creating and Extr...   \n",
       "1  Python Data Science Tutorial: Analyzing the 20...   \n",
       "2  Python Multiprocessing Tutorial: Run Code in P...   \n",
       "3  Python Threading Tutorial: Run Code Concurrent...   \n",
       "4                                Update (2019-09-03)   \n",
       "\n",
       "                                                link  \\\n",
       "0  https://coreyms.com/development/python/python-...   \n",
       "1  https://coreyms.com/development/python/python-...   \n",
       "2  https://coreyms.com/development/python/python-...   \n",
       "3  https://coreyms.com/development/python/python-...   \n",
       "4      https://coreyms.com/general/update-2019-09-03   \n",
       "\n",
       "                                         description  \n",
       "0  In this video, we will be learning how to crea...  \n",
       "1  In this Python Programming video, we will be l...  \n",
       "2  In this Python Programming video, we will be l...  \n",
       "3  In this Python Programming video, we will be l...  \n",
       "4  Hey everyone. I wanted to give you an update o...  "
      ]
     },
     "execution_count": 14,
     "metadata": {},
     "output_type": "execute_result"
    }
   ],
   "source": [
    "df = pd.DataFrame(data, columns = ['title','link','description'])\n",
    "df.head()"
   ]
  },
  {
   "cell_type": "code",
   "execution_count": null,
   "metadata": {},
   "outputs": [],
   "source": []
  }
 ],
 "metadata": {
  "interpreter": {
   "hash": "951daa5e1959839fcb325fff331f52e72634f7a1be998f6081ed7f433b63f1b3"
  },
  "kernelspec": {
   "display_name": "Python 3.8.11 64-bit ('base': conda)",
   "name": "python3"
  },
  "language_info": {
   "codemirror_mode": {
    "name": "ipython",
    "version": 3
   },
   "file_extension": ".py",
   "mimetype": "text/x-python",
   "name": "python",
   "nbconvert_exporter": "python",
   "pygments_lexer": "ipython3",
   "version": "3.8.11"
  }
 },
 "nbformat": 4,
 "nbformat_minor": 5
}
