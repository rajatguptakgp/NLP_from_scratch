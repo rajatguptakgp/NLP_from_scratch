{
 "cells": [
  {
   "cell_type": "code",
   "execution_count": 1,
   "metadata": {},
   "outputs": [
    {
     "name": "stderr",
     "output_type": "stream",
     "text": [
      "[nltk_data] Downloading package brown to /Users/r0g06z5/nltk_data...\n",
      "[nltk_data]   Package brown is already up-to-date!\n",
      "[nltk_data] Downloading package stopwords to\n",
      "[nltk_data]     /Users/r0g06z5/nltk_data...\n",
      "[nltk_data]   Package stopwords is already up-to-date!\n"
     ]
    }
   ],
   "source": [
    "import numpy as np\n",
    "import matplotlib.pyplot as plt\n",
    "import nltk\n",
    "from nltk.corpus import stopwords\n",
    "import itertools\n",
    "from collections import Counter\n",
    "from sklearn.decomposition import PCA\n",
    "from sklearn.metrics.pairwise import cosine_similarity\n",
    "from tqdm import tqdm\n",
    "\n",
    "nltk.download('brown')\n",
    "nltk.download('stopwords')\n",
    "stopwords = stopwords.words('english')\n",
    "\n",
    "np.set_printoptions(suppress=True)"
   ]
  },
  {
   "cell_type": "markdown",
   "metadata": {},
   "source": [
    "### Latent Semantic Analysis (LSA)\n",
    "\n",
    "Word representations can be either statistics-based or learning based (Word2Vec, ELMo, BERT embeddings and more..). In a statistics based approach, we use the global count statistics on a large corpus to serve as a starting point to model semantic and syntactic relationships. Since the corpus can be very large comprising of large number documents and rich vocabulary, encapsulating this information in a structured format as matrix and further processing it can be memory inefficient and computationally costly.\n",
    "\n",
    "The idea of LSA is to encode word relationships in lower dimensions. LSA essentially performs **Singular Value Decomposition (SVD)** on the term-document matrix reducing the number of dimensions to a finite number (say number of topics) - which is where it is used for topic modelling. This enables us to represent documents from the original word space (every document (row in term-document matrix) can be uniquely identified by the terms it contains) to a latent topic space (document represented by a continuous/weighted distribution of topics). "
   ]
  },
  {
   "cell_type": "code",
   "execution_count": 2,
   "metadata": {},
   "outputs": [],
   "source": [
    "# info\n",
    "\n",
    "# number of training epochs for Sparse LSA\n",
    "n_epochs = 4000\n",
    "\n",
    "# number of documents to consider\n",
    "n_docs = 10\n",
    "\n",
    "# number of topics\n",
    "n_topics = 5\n",
    "\n",
    "seed = 42"
   ]
  },
  {
   "cell_type": "code",
   "execution_count": 3,
   "metadata": {},
   "outputs": [
    {
     "name": "stdout",
     "output_type": "stream",
     "text": [
      "Processing sentences..\n",
      "\n",
      "Number of Documents: 10\n",
      "Number of Tokens: 4447\n"
     ]
    }
   ],
   "source": [
    "np.random.seed(seed)\n",
    "brown = nltk.corpus.brown\n",
    "docs = np.random.choice(brown.fileids(), n_docs, replace=False)\n",
    "\n",
    "print('Processing sentences..\\n')\n",
    "processed_docs = {}\n",
    "for doc in docs:\n",
    "    processed_sents = []\n",
    "    sents = brown.sents(doc)\n",
    "    for sent in sents:\n",
    "        processed_sents.append([word.lower() for word in sent if word.isalnum() and word not in stopwords])\n",
    "    processed_docs[doc] = processed_sents\n",
    "\n",
    "processed_sents = list(itertools.chain(*list(processed_docs.values())))\n",
    "final_tokens = list(set(itertools.chain(*processed_sents)))\n",
    "n_tokens = len(final_tokens)\n",
    "\n",
    "token2int = dict(zip(final_tokens, range(n_tokens)))\n",
    "int2token = {v:k for k,v in token2int.items()}\n",
    "\n",
    "print('Number of Documents:', n_docs) \n",
    "print('Number of Tokens:', n_tokens)    "
   ]
  },
  {
   "cell_type": "code",
   "execution_count": 4,
   "metadata": {},
   "outputs": [],
   "source": [
    "def get_frequency_hash_map(tokens):\n",
    "    token_frequency_dict = {}\n",
    "    all_tokens = list(itertools.chain(*tokens))\n",
    "    for token in all_tokens:\n",
    "        if token_frequency_dict.get(token):\n",
    "            token_frequency_dict[token] +=1\n",
    "        else:\n",
    "            token_frequency_dict[token] = 1\n",
    "    return token_frequency_dict"
   ]
  },
  {
   "cell_type": "code",
   "execution_count": 5,
   "metadata": {},
   "outputs": [],
   "source": [
    "def build_term_document_matrix(processed_docs):\n",
    "    term_document_matrix = np.zeros((n_docs, n_tokens), dtype='int')\n",
    "    for doc_idx, doc in enumerate(processed_docs):\n",
    "        tokens = processed_docs[doc]\n",
    "        token_frequency_dict = get_frequency_hash_map(tokens)\n",
    "        token_idxs = list(map(lambda x: token2int[x], token_frequency_dict.keys()))\n",
    "        counts = list(token_frequency_dict.values())        \n",
    "        term_document_matrix[doc_idx, token_idxs] = counts\n",
    "    assert term_document_matrix.shape == (n_docs, n_tokens)        \n",
    "    return term_document_matrix"
   ]
  },
  {
   "cell_type": "code",
   "execution_count": 6,
   "metadata": {},
   "outputs": [],
   "source": [
    "def get_singular_value_decomposition(term_document_matrix, n_topics):\n",
    "    U, S, VT = np.linalg.svd(term_document_matrix)\n",
    "    \n",
    "    \"\"\"\n",
    "    Necessary checks for Singular Value Decomposition:\n",
    "\n",
    "    1. U and V are singular matrices\n",
    "    2. Number of eigenvalues is rank of matrix \n",
    "    \"\"\"\n",
    "\n",
    "    assert np.allclose(U.T @ U, np.identity(len(U)))\n",
    "    assert np.allclose(VT @ VT.T, np.identity(len(VT)))\n",
    "    assert len(S) == np.linalg.matrix_rank(term_document_matrix)\n",
    "    \n",
    "    # low-rank approximation\n",
    "    approximated_mat = U[:,:n_topics] @ np.diag(S[:n_topics]) @ VT[:n_topics]\n",
    "    assert approximated_mat.shape == term_document_matrix.shape\n",
    "\n",
    "    # projection matrix\n",
    "    projection_mat = np.linalg.inv(np.diag(S[:n_topics])) @ VT[:n_topics]\n",
    "    assert projection_mat.shape == (n_topics, n_tokens)\n",
    "    return approximated_mat, projection_mat"
   ]
  },
  {
   "cell_type": "code",
   "execution_count": 7,
   "metadata": {},
   "outputs": [
    {
     "name": "stdout",
     "output_type": "stream",
     "text": [
      "Building Term Document Matrix..\n",
      "Getting document representations in topic space (instead of original word space)..\n"
     ]
    }
   ],
   "source": [
    "print('Building Term Document Matrix..')\n",
    "term_document_matrix = build_term_document_matrix(processed_docs)\n",
    "\n",
    "print('Getting document representations in topic space (instead of original word space)..')\n",
    "approximated_mat, projection_mat = get_singular_value_decomposition(term_document_matrix, n_topics)"
   ]
  },
  {
   "cell_type": "markdown",
   "metadata": {},
   "source": [
    "Let's look at similarities between document representations"
   ]
  },
  {
   "cell_type": "code",
   "execution_count": 8,
   "metadata": {},
   "outputs": [],
   "source": [
    "csim = cosine_similarity(projection_mat)\n",
    "assert np.allclose(csim, np.identity(n_topics))"
   ]
  },
  {
   "cell_type": "markdown",
   "metadata": {},
   "source": [
    "This says that the document representations in latent topic space i.e. **topics embeddings** are orthogonal to each other. This means that the original documents selected comprised of topics different from each other. "
   ]
  },
  {
   "cell_type": "markdown",
   "metadata": {},
   "source": [
    "### Sparse LSA\n",
    "\n",
    "From the [paper](https://www.cs.cmu.edu/~jgc/publication/PublicationPDF/Sparse_Latent_Semantic_Analysis.pdf), we are interested in solving the optimization problem:\n",
    "\n",
    "\\begin{aligned}\n",
    "J = \\min _{\\mathbf{U}, \\mathbf{A}} & \\frac{1}{2}\\|\\mathbf{X}-\\mathbf{U} \\mathbf{A}\\|_{F}^{2}+\\lambda\\|\\mathbf{A}\\|_{1} \\\\\n",
    "\\text { subject to: } & \\mathbf{U}^{T} \\mathbf{U}=\\mathbf{I}\n",
    "\\end{aligned}\n",
    "\n",
    "Differentiating the loss function $J$ with respect to $U$ and $A$:\n",
    "\n",
    "\\begin{aligned}\n",
    "&\\frac{\\partial J}{\\partial A}=A-U^{\\top} X+\\lambda \\operatorname{sgn}(A) \\\\\n",
    "\n",
    "&\\frac{\\partial J}{\\partial U}=2 \\lambda U-X A^{\\top}\n",
    "\\end{aligned}\n",
    "\n",
    "Note that the loss is scaler while $U$ and $A$ are matrices and so we are differentiating a scaler with a matrix."
   ]
  },
  {
   "cell_type": "markdown",
   "metadata": {},
   "source": [
    "### Derivation \n",
    "\n",
    "We have the governing equation:\n",
    "\n",
    "\\begin{aligned}\n",
    "&X=U A+\\epsilon\n",
    "\\end{aligned}\n",
    "\n",
    "The loss $J$ is given by sum of squares of errors:\n",
    "\\begin{aligned}\n",
    "&J=\\frac{\\|\\epsilon\\|^{2}}{2}=\\frac{\\operatorname{tr}\\left(\\epsilon^{\\top} \\epsilon\\right)}{2}=\\frac{\\operatorname{tr}\\left((X-U A)^{\\top}(X-U A)\\right)}{2}\n",
    "\\end{aligned}\n",
    "\n",
    "$$\n",
    "\\frac{\\operatorname{tr}\\left((X-U A)^{\\top}(X-U A)\\right)}{2}=\\frac{\\operatorname{tr}\\left(X^{\\top} X-X^{\\top} U A-A^{\\top} U^{\\top} X+A^{\\top} U^{\\top} U A\\right)}{2}\n",
    "$$\n",
    "\n",
    "Differentiating with respect to $U$ and $A$:\n",
    "\\begin{aligned}\n",
    "&\\frac{1}{2} \\frac{\\partial \\operatorname{tr}\\left(A^{\\top} A\\right)}{\\partial A}=A \\\\\n",
    "&\\frac{\\partial}{\\partial A} \\operatorname{tr}\\left(A^{\\top} U^{\\top} X\\right)=U^{\\top} X \\\\\n",
    "&\\frac{\\partial}{\\partial U}\\left(U^{\\top} U\\right)=2 U \\\\\n",
    "&\\frac{\\partial}{\\partial U} \\operatorname{tr}\\left(A^{\\top} U^{\\top} X\\right)=X A^{\\top}\n",
    "\\end{aligned}"
   ]
  },
  {
   "cell_type": "code",
   "execution_count": 9,
   "metadata": {},
   "outputs": [],
   "source": [
    "def is_present(token, words):\n",
    "    if token in words:\n",
    "        return 1\n",
    "    else:\n",
    "        return 0\n",
    "\n",
    "def get_present_label(doc):\n",
    "    words = brown.words(doc)\n",
    "    words = [word.lower() for word in words if word.isalnum() and word not in stopwords] \n",
    "    present_label = list(map(lambda x: is_present(x, words), final_tokens))\n",
    "    return present_label\n",
    "    \n",
    "def get_term_freq(doc):\n",
    "    words_doc = list(itertools.chain(*processed_docs[doc]))\n",
    "    vocab_doc = set(words_doc)    \n",
    "\n",
    "    term_freq_dict = dict(Counter(words_doc))\n",
    "    term_freq_dict = {token2int[k]: v for k,v in term_freq_dict.items()}\n",
    "    counts = np.zeros(n_tokens)\n",
    "\n",
    "    term_freq_mat = np.array(sorted(list(zip(term_freq_dict.keys(), term_freq_dict.values()))))\n",
    "    idxs = term_freq_mat[:, 0]\n",
    "    values = term_freq_mat[:, 1]\n",
    "    counts[idxs] = values\n",
    "    return counts / len(vocab_doc)"
   ]
  },
  {
   "cell_type": "code",
   "execution_count": 10,
   "metadata": {},
   "outputs": [],
   "source": [
    "# term frequency matrix\n",
    "term_freq_mat = np.array(list(map(lambda x: get_term_freq(x), docs)))\n",
    "\n",
    "# document frequency matrix\n",
    "all_docs = brown.fileids()\n",
    "doc_frequency_mat = np.array(list(map(lambda x: get_present_label(x), all_docs)))\n",
    "idf = np.log(len(all_docs) / np.sum(doc_frequency_mat, axis=0))\n",
    "\n",
    "# tf-idf matrix\n",
    "tfidf_mat = term_freq_mat * idf\n",
    "assert tfidf_mat.shape == (n_docs, n_tokens)"
   ]
  },
  {
   "cell_type": "code",
   "execution_count": 11,
   "metadata": {},
   "outputs": [],
   "source": [
    "def loss_fn(X,U,A,lamda):\n",
    "    return np.sum((X-U@A).T @ (X-U@A)) / 2 + lamda * np.sum(abs(A))\n",
    "\n",
    "def gradient(X,U,A,reg_coef,lamda):\n",
    "    dA = A - U.T @ X + lamda * np.sign(A)\n",
    "    dU = 2 * reg_coef * U - X @ A.T\n",
    "    return dA, dU\n",
    "\n",
    "def sparse_LSA_optimization(X, alpha, lamda, reg_coef, eps):\n",
    "    U = np.random.random((n_docs, n_topics))\n",
    "    A = np.random.random((n_topics, n_tokens))\n",
    "    dA = np.random.random(A.shape)\n",
    "    dU = np.random.random(U.shape)\n",
    "\n",
    "    costs = []\n",
    "    n_iter = 0\n",
    "    cost = 1\n",
    "    convergence = 1\n",
    "    while cost > eps:\n",
    "        dA, dU = gradient(X,U,A,reg_coef,lamda)\n",
    "        A-= alpha * dA\n",
    "        U-= alpha * dU\n",
    "        cost = loss_fn(X,U,A,lamda)\n",
    "\n",
    "        if n_iter%100==0:\n",
    "            print(f'Cost at {n_iter} iterations:', cost.round(3))\n",
    "        \n",
    "        costs.append(cost)\n",
    "        n_iter += 1\n",
    "\n",
    "        if n_iter>=n_epochs:\n",
    "            convergence = 0\n",
    "            break        \n",
    "\n",
    "    if convergence:\n",
    "        print(f'Converged in {len(costs)} epochs..')\n",
    "    else:\n",
    "        print(f'Training complete with {n_epochs} epochs..')\n",
    "    return A, U, costs        "
   ]
  },
  {
   "cell_type": "code",
   "execution_count": 12,
   "metadata": {},
   "outputs": [
    {
     "name": "stdout",
     "output_type": "stream",
     "text": [
      "Cost at 0 iterations: 201152295.776\n",
      "Cost at 100 iterations: 195931038.104\n",
      "Cost at 200 iterations: 160427788.643\n",
      "Cost at 300 iterations: 115621216.588\n",
      "Cost at 400 iterations: 74842211.731\n",
      "Cost at 500 iterations: 43710355.941\n",
      "Cost at 600 iterations: 22933028.313\n",
      "Cost at 700 iterations: 10637132.098\n",
      "Cost at 800 iterations: 4220157.348\n",
      "Cost at 900 iterations: 1343544.548\n",
      "Cost at 1000 iterations: 302405.153\n",
      "Cost at 1100 iterations: 34326.668\n",
      "Cost at 1200 iterations: 325.874\n",
      "Cost at 1300 iterations: 64.827\n",
      "Cost at 1400 iterations: 68.246\n",
      "Cost at 1500 iterations: 70.163\n",
      "Cost at 1600 iterations: 71.173\n",
      "Cost at 1700 iterations: 71.452\n",
      "Cost at 1800 iterations: 71.128\n",
      "Cost at 1900 iterations: 71.143\n",
      "Cost at 2000 iterations: 71.645\n",
      "Cost at 2100 iterations: 71.46\n",
      "Cost at 2200 iterations: 71.849\n",
      "Cost at 2300 iterations: 72.125\n",
      "Cost at 2400 iterations: 72.011\n",
      "Cost at 2500 iterations: 71.733\n",
      "Cost at 2600 iterations: 71.637\n",
      "Cost at 2700 iterations: 71.812\n",
      "Cost at 2800 iterations: 71.737\n",
      "Cost at 2900 iterations: 71.701\n",
      "Cost at 3000 iterations: 71.67\n",
      "Cost at 3100 iterations: 71.612\n",
      "Cost at 3200 iterations: 71.571\n",
      "Cost at 3300 iterations: 71.695\n",
      "Cost at 3400 iterations: 71.768\n",
      "Cost at 3500 iterations: 71.752\n",
      "Cost at 3600 iterations: 71.758\n",
      "Cost at 3700 iterations: 71.773\n",
      "Cost at 3800 iterations: 71.796\n",
      "Cost at 3900 iterations: 71.804\n",
      "Training complete with 4000 epochs..\n"
     ]
    }
   ],
   "source": [
    "X = tfidf_mat\n",
    "alpha = 0.001\n",
    "lamda = 0.4\n",
    "reg_coef = 0.5\n",
    "eps = 0.01    \n",
    "\n",
    "A, U, costs = sparse_LSA_optimization(X, alpha, lamda, reg_coef, eps)"
   ]
  },
  {
   "cell_type": "code",
   "execution_count": 13,
   "metadata": {},
   "outputs": [
    {
     "data": {
      "image/png": "[encoded data removed]",
      "text/plain": [
       "<Figure size 432x288 with 1 Axes>"
      ]
     },
     "metadata": {
      "needs_background": "light"
     },
     "output_type": "display_data"
    }
   ],
   "source": [
    "plt.plot(costs)\n",
    "plt.title('costs')\n",
    "plt.xlabel('epochs')\n",
    "plt.ylabel('value')\n",
    "plt.show()"
   ]
  },
  {
   "cell_type": "code",
   "execution_count": null,
   "metadata": {},
   "outputs": [],
   "source": []
  }
 ],
 "metadata": {
  "interpreter": {
   "hash": "951daa5e1959839fcb325fff331f52e72634f7a1be998f6081ed7f433b63f1b3"
  },
  "kernelspec": {
   "display_name": "Python 3.8.11 64-bit ('base': conda)",
   "language": "python",
   "name": "python3"
  },
  "language_info": {
   "codemirror_mode": {
    "name": "ipython",
    "version": 3
   },
   "file_extension": ".py",
   "mimetype": "text/x-python",
   "name": "python",
   "nbconvert_exporter": "python",
   "pygments_lexer": "ipython3",
   "version": "3.8.11"
  },
  "orig_nbformat": 4
 },
 "nbformat": 4,
 "nbformat_minor": 2
}
