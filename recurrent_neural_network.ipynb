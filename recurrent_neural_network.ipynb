{
 "cells": [
  {
   "cell_type": "code",
   "execution_count": 1,
   "metadata": {},
   "outputs": [],
   "source": [
    "import numpy as np\n",
    "import itertools\n",
    "import matplotlib.pyplot as plt"
   ]
  },
  {
   "cell_type": "markdown",
   "metadata": {},
   "source": [
    "### Recurrent Neural Network \n",
    "\n",
    "Neural Networks can be two types:\n",
    "1. **Feed-Forward Network** - These networks use information from the current state to process for the next state.\n",
    "2. **Recurrent Network** - These networks not just use the information from current state but from previous states to process for next state. They keep a memory storing important information from previous states.\n",
    "\n",
    "In this notebook, we will train an RNN to predict **'ihello'** from **'hihell'**.\n",
    "1. The letters will be given as inputs one-by-one (or multiple together).\n",
    "2. At any instant, the RNN takes an input character and outputs two variables:\n",
    "    1. Output character: Prediction for the current instance.\n",
    "    2. Hidden state: This is to be used for the next instance. This way the information from previous states keep propagating forward.\n",
    "\n",
    "We'll create a Recurrent Neural Network class **RNN**, from scratch that we'll use for training."
   ]
  },
  {
   "cell_type": "code",
   "execution_count": 2,
   "metadata": {},
   "outputs": [],
   "source": [
    "chars = ['h','i','e','l','o']\n",
    "char2int = dict(zip(chars, range(len(chars))))\n",
    "int2char = {v:k for k,v in char2int.items()}\n",
    "OHE_mat = np.identity(len(chars))"
   ]
  },
  {
   "cell_type": "code",
   "execution_count": 3,
   "metadata": {},
   "outputs": [
    {
     "data": {
      "text/plain": [
       "((6, 5), (6, 5))"
      ]
     },
     "execution_count": 3,
     "metadata": {},
     "output_type": "execute_result"
    }
   ],
   "source": [
    "input_word = 'hihell'\n",
    "output_word = 'ihello'\n",
    "X = np.array(list(map(lambda x: OHE_mat[char2int[x]], list(input_word)))).astype('int')\n",
    "Y = np.array(list(map(lambda x: OHE_mat[char2int[x]], list(output_word)))).astype('int')\n",
    "X.shape, Y.shape"
   ]
  },
  {
   "cell_type": "markdown",
   "metadata": {},
   "source": [
    "#### Training a Neural Network\n",
    "\n",
    "The steps for training a neural network are as follows:\n",
    "1. **Training:**\n",
    "    1. Split data into training and validation sets\n",
    "    2. Initialize random weights and biases\n",
    "    3. For an epoch:\n",
    "        1. For each batch:\n",
    "            1. **Forward Pass:** Propagate through the network and calculate loss\n",
    "            2. **Backward Pass (Back-Propagation):**\n",
    "                1. Back-propagate through the network to calculate gradient of loss with respect to weights and biases\n",
    "                2. Update the weights and biases using an optimizer \n",
    "        2. Calculate mean training loss across all batches for the epoch\n",
    "        3. Calculate validation loss with final weights and biases at end of epoch\n",
    "    4. Repeat step 3 for significant number of epochs until loss convergence\n",
    "2. **Inference:**\n",
    "    1. Using final weights and biases, predict on testing data "
   ]
  },
  {
   "cell_type": "markdown",
   "metadata": {},
   "source": [
    "#### Forward Equations:\n",
    "\n",
    "$$\n",
    "\\begin{aligned}\n",
    "Z_{1} &=H W_{1}+X W_{2}+B_{1} \\\\\n",
    "Y_{1} &=\\operatorname{tanh}\\left(Z_{1}\\right) \\\\\n",
    "Z_{2} &=Y_{1} W_{3}+B_{2} \\\\\n",
    "\\hat{y} &=\\operatorname{softmax}\\left(Z_{2}\\right)\n",
    "\\end{aligned}\n",
    "$$\n",
    "\n",
    "#### Backward Equations:\n",
    "$$\n",
    "\\begin{aligned}\n",
    "&d Z_{2}=\\frac{\\partial L}{\\partial Z_{2}}=\\hat{y}-y \\\\\n",
    "&d Y_{1}=\\frac{\\partial L}{\\partial Y_{1}}=d Z_{2} W_{3}^{\\top} \\\\\n",
    "&d W_{3}=\\frac{\\partial L}{\\partial W_{3}}=Y_{1}^{\\top} d Z_{2} \\\\\n",
    "&d Z_{1}=d Y_{1}\\left(1-\\tanh ^{2}\\left(Y_{1}\\right)\\right) \\\\\n",
    "&d W_{1}=H^{\\top} d Z_{1} \\\\\n",
    "&d W_{2}=X^{\\top} d Z_{1} \\\\\n",
    "&d B_{1}=d Z_{1} 1 \\\\\n",
    "&d B_{2}=d Z_{2} 1\n",
    "\\end{aligned}\n",
    "$$"
   ]
  },
  {
   "cell_type": "code",
   "execution_count": 4,
   "metadata": {},
   "outputs": [],
   "source": [
    "class RNN:\n",
    "    def __init__(self, n_input, n_hidden, n_output, alpha, batch_size):\n",
    "        self.n_input = n_input\n",
    "        self.n_hidden = n_hidden\n",
    "        self.n_output = n_output\n",
    "\n",
    "    def initialize_weights(self, batch_size):\n",
    "        self.W1 = np.random.normal(-1, 1, size=(self.n_hidden, self.n_hidden))\n",
    "        self.W2 = np.random.normal(-1, 1, size=(self.n_input, self.n_hidden))\n",
    "        self.W3 = np.random.normal(-1, 1, size=(self.n_hidden, self.n_output))\n",
    "        self.B1 = np.random.normal(-1, 1, size=(batch_size, 1))\n",
    "        self.B2 = np.random.normal(-1, 1, size=(batch_size, 1))\n",
    "        self.X_hidden_init = np.random.random(size=(batch_size, self.n_hidden))\n",
    "\n",
    "    def tanh(self, x):\n",
    "        return (np.exp(x) - np.exp(-x)) / (np.exp(x) + np.exp(-x))\n",
    "\n",
    "    def dtanh(self, x):\n",
    "        return 1 - self.tanh(x)**2\n",
    "\n",
    "    def softmax(self, x):\n",
    "        return np.exp(x) / np.sum(np.exp(x), axis=1).reshape(-1,1)      \n",
    "\n",
    "    def cross_entropy_loss(self, y_batch, y_score):\n",
    "        return -np.sum(np.multiply(y_batch, np.log(y_score))) / len(y_batch)    \n",
    "\n",
    "    def forward(self, X_hidden, X_batch, y_batch):\n",
    "        Z1 = X_hidden @ self.W1 + X_batch @ self.W2 + self.B1\n",
    "        Y1 = self.tanh(Z1)\n",
    "        Z2 = Y1 @ self.W3 + self.B2\n",
    "        y_score = self.softmax(Z2)\n",
    "        L = self.cross_entropy_loss(y_batch, y_score)\n",
    "        return Z1, Y1, Z2, y_score, L   \n",
    "\n",
    "    def gradient(self, Z1, Y1, Z2, y_score, X_hidden, X_batch, y_batch):\n",
    "        dZ2 = (y_score - y_batch) / len(y_batch)\n",
    "        dY1 = dZ2 @ self.W3.T\n",
    "        dZ1 = dY1 * self.dtanh(Y1)\n",
    "\n",
    "        self.dW3 = Y1.T @ dZ2\n",
    "        self.dW2 = X_batch.T @ dZ1\n",
    "        self.dB2 = dZ2 @ np.ones(shape=(self.n_output,1))\n",
    "        self.dW1 = X_hidden.T @ dZ1\n",
    "        self.dB1 = dZ1 @ np.ones(shape=(self.n_hidden,1))\n",
    "\n",
    "        assert dZ2.shape == Z2.shape\n",
    "        assert dY1.shape == Y1.shape\n",
    "        assert dZ1.shape == Z1.shape\n",
    "\n",
    "        assert self.dW3.shape == self.W3.shape\n",
    "        assert self.dW2.shape == self.W2.shape\n",
    "        assert self.dB2.shape == self.B2.shape\n",
    "        assert self.dW1.shape == self.W1.shape\n",
    "        assert self.dB1.shape == self.B1.shape\n",
    "\n",
    "    def updates(self, alpha):\n",
    "        self.W1 = self.W1 - alpha * self.dW1\n",
    "        self.W2 = self.W2 - alpha * self.dW2\n",
    "        self.W3 = self.W3 - alpha * self.dW3\n",
    "        self.B1 = self.B1 - alpha * self.dB1\n",
    "        self.B2 = self.B2 - alpha * self.dB2\n",
    "\n",
    "    def backward(self, Z1, Y1, Z2, y_score, X_hidden, X_batch, y_batch, alpha):\n",
    "        self.gradient(Z1, Y1, Z2, y_score, X_hidden, X_batch, y_batch)\n",
    "        self.updates(alpha)\n",
    "\n",
    "    def train(self, X, Y, alpha, batch_size):\n",
    "        n_examples = X.shape[0]\n",
    "        X_hidden = self.X_hidden_init\n",
    "        batch_runs = int(n_examples / batch_size)\n",
    "        loss = 0\n",
    "        pred_string = []\n",
    "\n",
    "        for batch_idx in range(batch_runs):\n",
    "            batch_start = batch_idx * batch_size\n",
    "            batch_end = min((batch_idx + 1) * batch_size, n_examples)\n",
    "            X_batch = X[batch_start:batch_end]\n",
    "            y_batch = Y[batch_start:batch_end]\n",
    "\n",
    "            Z1, Y1, Z2, y_score, L = self.forward(X_hidden, X_batch, y_batch)\n",
    "            self.backward(Z1, Y1, Z2, y_score, X_hidden, X_batch, y_batch, alpha)\n",
    "\n",
    "            pred_chars = self.predict(y_score)\n",
    "            X_hidden = Y1\n",
    "            loss += L\n",
    "            pred_string.append(pred_chars)\n",
    "\n",
    "        pred_string = list(itertools.chain(*pred_string))\n",
    "        mean_loss = loss / batch_runs\n",
    "        return mean_loss, pred_string\n",
    "\n",
    "    def predict(self, y_score):\n",
    "        pred = np.flip(np.argsort(y_score, axis=1), axis=1)[:,0]\n",
    "        pred_chars = list(map(lambda x: int2char[x], pred))\n",
    "        return pred_chars"
   ]
  },
  {
   "cell_type": "markdown",
   "metadata": {},
   "source": [
    "### Training RNN\n",
    "\n",
    "We initialize the class specifying all the parameters and train the model over a sufficient number of epochs.\n",
    "\n",
    "#### Important Points:\n",
    "1. The batch size can be 1 or more, depending on the number of characters you want to feed together.\n",
    "2. The hidden state has no dependence on input/output dimensions or number of class labels (characters)."
   ]
  },
  {
   "cell_type": "code",
   "execution_count": 5,
   "metadata": {},
   "outputs": [
    {
     "name": "stdout",
     "output_type": "stream",
     "text": [
      "Epoch: 50 | Loss: 0.845 | Prediction String: ehloll\n",
      "Epoch: 100 | Loss: 0.499 | Prediction String: ihelll\n",
      "Epoch: 150 | Loss: 0.375 | Prediction String: ihelol\n",
      "Epoch: 200 | Loss: 0.358 | Prediction String: iheloo\n",
      "Epoch: 250 | Loss: 0.346 | Prediction String: iheloo\n",
      "Epoch: 300 | Loss: 0.182 | Prediction String: ihello\n",
      "Epoch: 350 | Loss: 0.153 | Prediction String: ihello\n",
      "Epoch: 400 | Loss: 0.084 | Prediction String: ihello\n",
      "Epoch: 450 | Loss: 0.071 | Prediction String: ihello\n",
      "Epoch: 500 | Loss: 0.355 | Prediction String: ihelll\n",
      "Epoch: 550 | Loss: 0.205 | Prediction String: ihello\n",
      "Epoch: 600 | Loss: 0.093 | Prediction String: ihello\n",
      "Epoch: 650 | Loss: 0.049 | Prediction String: ihello\n",
      "Epoch: 700 | Loss: 0.037 | Prediction String: ihello\n",
      "Epoch: 750 | Loss: 0.028 | Prediction String: ihello\n",
      "Epoch: 800 | Loss: 0.023 | Prediction String: ihello\n",
      "Epoch: 850 | Loss: 0.019 | Prediction String: ihello\n",
      "Epoch: 900 | Loss: 0.017 | Prediction String: ihello\n",
      "Epoch: 950 | Loss: 0.015 | Prediction String: ihello\n",
      "Epoch: 1000 | Loss: 0.013 | Prediction String: ihello\n"
     ]
    }
   ],
   "source": [
    "alpha = 0.05 \n",
    "num_epochs = 1000\n",
    "num_classes = 5\n",
    "n_input = num_classes\n",
    "n_hidden = 3\n",
    "n_output = num_classes\n",
    "batch_size = 1\n",
    "\n",
    "model = RNN(n_input, n_hidden, n_output, alpha, batch_size)\n",
    "history = {}\n",
    "for epoch_idx in range(1, num_epochs+1):\n",
    "    if epoch_idx==1:\n",
    "        model.initialize_weights(batch_size)\n",
    "    loss, pred_string = model.train(X, Y, alpha, batch_size)\n",
    "    pred_string = ''.join(pred_string)\n",
    "\n",
    "    if epoch_idx % 50 ==0:\n",
    "        print(f'Epoch: {epoch_idx} | Loss: {loss.round(3)} | Prediction String: {pred_string}')\n",
    "    \n",
    "    history[epoch_idx]= loss"
   ]
  },
  {
   "cell_type": "code",
   "execution_count": 6,
   "metadata": {},
   "outputs": [
    {
     "data": {
      "image/png": "[encoded data removed]",
      "text/plain": [
       "<Figure size 432x288 with 1 Axes>"
      ]
     },
     "metadata": {
      "needs_background": "light"
     },
     "output_type": "display_data"
    }
   ],
   "source": [
    "losses = list(history.values())\n",
    "plt.title('Convergence Plot')\n",
    "plt.plot(losses, label='loss')\n",
    "plt.legend()\n",
    "plt.show()"
   ]
  },
  {
   "cell_type": "code",
   "execution_count": null,
   "metadata": {},
   "outputs": [],
   "source": []
  }
 ],
 "metadata": {
  "interpreter": {
   "hash": "951daa5e1959839fcb325fff331f52e72634f7a1be998f6081ed7f433b63f1b3"
  },
  "kernelspec": {
   "display_name": "Python 3.8.11 64-bit ('base': conda)",
   "language": "python",
   "name": "python3"
  },
  "language_info": {
   "codemirror_mode": {
    "name": "ipython",
    "version": 3
   },
   "file_extension": ".py",
   "mimetype": "text/x-python",
   "name": "python",
   "nbconvert_exporter": "python",
   "pygments_lexer": "ipython3",
   "version": "3.8.11"
  },
  "orig_nbformat": 4
 },
 "nbformat": 4,
 "nbformat_minor": 2
}
