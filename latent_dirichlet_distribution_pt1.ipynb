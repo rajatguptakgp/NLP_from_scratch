{
 "cells": [
  {
   "cell_type": "code",
   "execution_count": 1,
   "metadata": {},
   "outputs": [
    {
     "name": "stderr",
     "output_type": "stream",
     "text": [
      "[nltk_data] Downloading package brown to /Users/r0g06z5/nltk_data...\n",
      "[nltk_data]   Package brown is already up-to-date!\n",
      "[nltk_data] Downloading package stopwords to\n",
      "[nltk_data]     /Users/r0g06z5/nltk_data...\n",
      "[nltk_data]   Package stopwords is already up-to-date!\n"
     ]
    }
   ],
   "source": [
    "import numpy as np\n",
    "import matplotlib.pyplot as plt\n",
    "import nltk\n",
    "from nltk.corpus import stopwords\n",
    "import itertools\n",
    "from collections import Counter\n",
    "import json\n",
    "\n",
    "nltk.download('brown')\n",
    "nltk.download('stopwords')\n",
    "stopwords = stopwords.words('english')\n",
    "\n",
    "np.set_printoptions(suppress=True)"
   ]
  },
  {
   "cell_type": "markdown",
   "metadata": {},
   "source": [
    "### Latent Dirichlet Allocation (LDA)\n",
    "\n",
    "**Topic Modelling**: The problem of Topic Modelling is that we are interested in finding topics that documents are based on, which can be later used for generating documents using them.\n",
    "\n",
    "**LDA**: It is famously used for Topic Modelling.  We assume that any document is a multinomial distribution of a given number of yet unknown topics, and any topic is multinomial distribution of given vocabulary. Once we have estimated these distributions using Statistical Inference on given data (**maximizing the likelihood of distributions given observations**), we can build a probabilistic generative model to sample words from these distributions, hence generating documents. \n",
    "\n",
    "**Assumptions of LDA:**\n",
    "1. LDA assumes a **Bag-of-Words (BOW)** model i.e. the order of words does not matter\n",
    "2. Topic assignment is not exclusive i.e. as words can have different meanings under different contexts, a word can be assigned different topics under different contexts"
   ]
  },
  {
   "cell_type": "markdown",
   "metadata": {},
   "source": [
    "We will divide the learning on LDA in two parts:\n",
    "1. **Statistical Inference**: Given some reference data, we will estimate the topic distributions as per LDA algorithm with **Gibbs Sampling**\n",
    "2. **Generative Model**: Having inferred the distributions, we will generate some documents and look at various applications of LDA\n",
    "\n",
    "In this notebook, we will focus on the 1st part - estimating topic distributions and saving them for the second notebook."
   ]
  },
  {
   "cell_type": "code",
   "execution_count": 2,
   "metadata": {},
   "outputs": [],
   "source": [
    "# config\n",
    "# number of iterations to run LDA\n",
    "n_iters = 200\n",
    "\n",
    "# number of documents to consider\n",
    "n_docs = 15\n",
    "\n",
    "# number of topics\n",
    "n_topics = 5\n",
    "\n",
    "# Dirichlet hyperparameters\n",
    "eta = 1.5\n",
    "alpha = 1.5\n",
    "burnin_period_frac = 0.2\n",
    "\n",
    "# seeding for reproducibility\n",
    "seed = 42"
   ]
  },
  {
   "cell_type": "code",
   "execution_count": 3,
   "metadata": {},
   "outputs": [
    {
     "name": "stdout",
     "output_type": "stream",
     "text": [
      "Processing sentences..\n",
      "\n",
      "Number of Documents: 15\n",
      "Number of Tokens: 6078\n"
     ]
    }
   ],
   "source": [
    "np.random.seed(seed)\n",
    "brown = nltk.corpus.brown\n",
    "docs = np.random.choice(brown.fileids(), n_docs, replace=False)\n",
    "\n",
    "print('Processing sentences..\\n')\n",
    "processed_docs = {}\n",
    "for doc in docs:\n",
    "    processed_sents = []\n",
    "    sents = brown.sents(doc)\n",
    "    for sent in sents:\n",
    "        processed_sents.append([word.lower() for word in sent if word.isalnum() and word not in stopwords])\n",
    "    processed_docs[doc] = processed_sents\n",
    "\n",
    "processed_sents = list(itertools.chain(*list(processed_docs.values())))\n",
    "final_tokens = list(set(itertools.chain(*processed_sents)))\n",
    "n_tokens = len(final_tokens)\n",
    "\n",
    "token2int = dict(zip(final_tokens, range(n_tokens)))\n",
    "int2token = {v:k for k,v in token2int.items()}\n",
    "\n",
    "doc2int = dict(zip(docs, range(n_docs)))\n",
    "int2doc = {v:k for k,v in doc2int.items()}\n",
    "\n",
    "print('Number of Documents:', n_docs) \n",
    "print('Number of Tokens:', n_tokens)    "
   ]
  },
  {
   "cell_type": "markdown",
   "metadata": {},
   "source": [
    "### Gibbs Sampling\n",
    "\n",
    "Gibbs Sampling is a form of **Markov Chain Monte Carlo (MCMC)**. It enables us to estimate the conditional probability of word token $z_{i}$ coming from document $d_{i}$, of being assigned topic $j$, **assuming all the other assignments are correct**. Essentially, we are interested in finding: \n",
    "\n",
    "$$\n",
    "P\\left(z_{i}=j \\mid z_{-i}, w_{i}, d_{i}\\right)\n",
    "$$\n",
    "\n",
    "Logically, it should depend on:\n",
    "1. The likelihood of topic $j$ under document $d_{i}$\n",
    "2. The likelihood of word $w_{i}$ under topic $j$\n",
    "\n",
    "And so, the conditional probability is proportional to:\n",
    "$$\n",
    "P\\left(z_{i}=j \\mid z_{-i}, w_{i}, d_{i}\\right) = K \\frac{C_{w_{i} j}^{W T}+\\eta}{\\sum_{w=1}^{W} C_{w j}{ }^{W T}+W \\eta} \\frac{C_{d_{i} j}^{D T}+\\alpha}{\\sum_{t=1}^{T} C_{d j}{ }^{D T}+T \\alpha}\n",
    "$$\n",
    "\n",
    "Points to note:\n",
    "1. The proportional factor $K$ can be found with normalizing probabilities such that they sum to 1.\n",
    "2. The individual likelihoods in the above equation represent **Dirichlet distribution** with $\\eta$ and $\\alpha$ as hyperparameters. Hence, the name Dirichlet in Latent Dirichlet Allocation.\n",
    "3. A high $\\alpha$ favours documents with equitable distribution of topics i.e. documents with balanced mixture of topics. Similarly, a low $\\alpha$ favours documents with skewed distribution of topics. Similarly for $\\eta$. "
   ]
  },
  {
   "cell_type": "markdown",
   "metadata": {},
   "source": [
    "### LDA algorithm\n",
    "\n",
    "The algorithm starts with assigning each word to a random topic. \n",
    "For each iteration:\n",
    "1. Compute word-topic (CWT) and document-topic (CDT) matrices\n",
    "2. For each word token, sample a topic as per distribution, assuming the rest of topic assignments are correct\n",
    "\n",
    "One pass on all words is called **Gibbs Sample**. \n",
    "\n",
    "Replace the topic assignment with newly generated topic assignment for the next iteration and repeat steps 1 and 2. "
   ]
  },
  {
   "cell_type": "markdown",
   "metadata": {},
   "source": [
    "#### Important points:\n",
    "1. The initial few iterations of the algorithm is termed as **burn-in period** since the algorithm musn't have started converging. \n",
    "2. Since consecutive Gibbs samples can be correlated, we will estimate topic distributions from iterative topic assignments at fixed regular intervals.\n",
    "3. Finally, we compute expectation of distributions to arrive at final topic distributions which we save and use to generate documents."
   ]
  },
  {
   "cell_type": "code",
   "execution_count": 4,
   "metadata": {},
   "outputs": [],
   "source": [
    "def get_topic_assignment(processed_docs, n_topics, seed):\n",
    "    np.random.seed(seed)\n",
    "    topic_assignment = {}\n",
    "    for doc, sents in processed_docs.items():\n",
    "        words = list(itertools.chain(*sents))\n",
    "        topics_assigned = np.random.choice(range(n_topics), len(words), replace=True)\n",
    "        topic_assignment[doc] = list(zip(words, topics_assigned))\n",
    "    return topic_assignment"
   ]
  },
  {
   "cell_type": "code",
   "execution_count": 5,
   "metadata": {},
   "outputs": [],
   "source": [
    "def get_CWT_matrix(topic_assignment):\n",
    "    word_topics = topic_assignment.values()\n",
    "    count_word_topics_dict = Counter(list(itertools.chain(*word_topics)))\n",
    "\n",
    "    # words indices for CWT matrix\n",
    "    CWT_words = np.array(list(count_word_topics_dict.keys()))[:, 0]\n",
    "    CWT_words = list(map(lambda x: token2int[x], CWT_words))\n",
    "\n",
    "    # topic indices for CWT matrix\n",
    "    CWT_topics = list(map(int, np.array(list(count_word_topics_dict.keys()))[:, 1]))\n",
    "\n",
    "    # counts for CWT matrix\n",
    "    counts = list(count_word_topics_dict.values())\n",
    "\n",
    "    # building CWT matrix\n",
    "    CWT = np.zeros((n_tokens, n_topics), dtype='int')\n",
    "    CWT[CWT_words, CWT_topics] = counts\n",
    "\n",
    "    assert len(CWT_words) == len(CWT_topics) == len(counts)\n",
    "    assert np.sum(CWT) == sum(counts)\n",
    "    return CWT"
   ]
  },
  {
   "cell_type": "code",
   "execution_count": 6,
   "metadata": {},
   "outputs": [],
   "source": [
    "def get_CDT_matrix(topic_assignment):\n",
    "    CDT = np.zeros((n_docs, n_topics), dtype='int')\n",
    "\n",
    "    for doc, word_topics in topic_assignment.items():\n",
    "        count_topic_dict = Counter(list(map(int, np.array(word_topics)[:, 1])))\n",
    "        topic_idxs = list(count_topic_dict.keys())\n",
    "        topic_counts = list(count_topic_dict.values())\n",
    "        CDT[doc2int[doc], topic_idxs] = topic_counts \n",
    "    return CDT"
   ]
  },
  {
   "cell_type": "code",
   "execution_count": 7,
   "metadata": {},
   "outputs": [],
   "source": [
    "def get_sampled_topic(word_idx, doc_idx, CWT, CDT):\n",
    "    dist = []\n",
    "    for topic_idx in range(n_topics):\n",
    "        pwt = (CWT[word_idx, topic_idx] -1 + eta) / (np.sum(CWT[:, topic_idx]) + n_tokens * eta)\n",
    "        pdt = (CDT[doc_idx, topic_idx] -1 + alpha) /  (np.sum(CDT[doc_idx, :]) + n_topics * alpha)\n",
    "        p = pwt * pdt\n",
    "        dist.append(p)\n",
    "\n",
    "    # normalize probabilities such that they sum to 1\n",
    "    # resulting distribution is multinomial distribution\n",
    "    dist = dist / sum(dist)\n",
    "    outcome = np.random.multinomial(1, dist)\n",
    "    sampled_topic_idx = np.where(outcome==1)[0][0]\n",
    "    return sampled_topic_idx"
   ]
  },
  {
   "cell_type": "code",
   "execution_count": 8,
   "metadata": {},
   "outputs": [],
   "source": [
    "def get_sampled_topics(doc_idx, word_topics, CWT, CDT):\n",
    "    words = np.array(word_topics)[:, 0]\n",
    "    sampled_topics = list(map(lambda word: get_sampled_topic(token2int[word], doc_idx, CWT, CDT), words))\n",
    "    return list(zip(words, sampled_topics))"
   ]
  },
  {
   "cell_type": "code",
   "execution_count": 9,
   "metadata": {},
   "outputs": [],
   "source": [
    "def get_Gibbs_sample(input_topic_assignment):\n",
    "    # initialize input matrices\n",
    "    CWT = get_CWT_matrix(input_topic_assignment)\n",
    "    CDT = get_CDT_matrix(input_topic_assignment)\n",
    "\n",
    "    # initialize output \n",
    "    new_topic_assignment = {}\n",
    "\n",
    "    # iterate for all words\n",
    "    docs = list(input_topic_assignment.keys())\n",
    "    all_word_topics = list(input_topic_assignment.values())\n",
    "    new_topic_assignment = dict(zip(docs, map(lambda doc, word_topics: \\\n",
    "                                                            get_sampled_topics(doc2int[doc], word_topics, CWT, CDT), docs, all_word_topics)))\n",
    "\n",
    "    \n",
    "    \"\"\"\n",
    "    ### loop form of iteration\n",
    "    \n",
    "    for doc, word_topics in input_topic_assignment.items():\n",
    "        doc_idx = doc2int[doc]\n",
    "        new_topic_assignment[doc] = []\n",
    "        for word, _ in word_topics:\n",
    "            word_idx = token2int[word]\n",
    "            sampled_topic = get_sampled_topic(word_idx, doc_idx, CWT, CDT)\n",
    "            new_topic_assignment[doc].append((word, sampled_topic))\n",
    "    \"\"\"   \n",
    "\n",
    "    for doc in docs:\n",
    "        assert len(new_topic_assignment[doc]) == len(input_topic_assignment[doc])\n",
    "    return new_topic_assignment"
   ]
  },
  {
   "cell_type": "code",
   "execution_count": 10,
   "metadata": {},
   "outputs": [],
   "source": [
    "def get_word_topic_distribution(final_tokens, n_topics, CWT):\n",
    "    beta = {}\n",
    "    for topic_idx in range(n_topics):\n",
    "        dist = []\n",
    "        for token in final_tokens:\n",
    "            word_idx = token2int[token]\n",
    "            p = (CWT[word_idx, topic_idx] + eta) / (np.sum(CWT[:, topic_idx]) + n_tokens * eta)\n",
    "            dist.append(p)\n",
    "        # normalize probabilities such that they sum to 1\n",
    "        # resulting distribution is multinomial distribution\n",
    "        dist = dist / sum(dist)\n",
    "        beta[topic_idx] = dist\n",
    "    return beta\n",
    "\n",
    "def get_doc_topic_distribution(docs, n_topics, CDT):\n",
    "    theta = {}\n",
    "    for doc in docs:\n",
    "        doc_idx = doc2int[doc]\n",
    "        dist = []\n",
    "        for topic_idx in range(n_topics):\n",
    "            p = (CDT[doc_idx, topic_idx] + alpha) /  (np.sum(CDT[doc_idx, :]) + n_topics * alpha)\n",
    "            dist.append(p)\n",
    "        # normalize probabilities such that they sum to 1\n",
    "        # resulting distribution is multinomial distribution\n",
    "        dist = dist / sum(dist)\n",
    "        theta[doc] = dist\n",
    "    return theta\n",
    "\n",
    "def get_distributions(topic_assignment):\n",
    "    CWT = get_CWT_matrix(topic_assignment)\n",
    "    CDT = get_CDT_matrix(topic_assignment) \n",
    "    beta = get_word_topic_distribution(final_tokens, n_topics, CWT)   \n",
    "    theta = get_doc_topic_distribution(docs, n_topics, CDT)\n",
    "    return beta, theta"
   ]
  },
  {
   "cell_type": "markdown",
   "metadata": {},
   "source": [
    "#### Checking for convergence\n",
    "\n",
    "We will check if the algorithm has reached stability or not with the following metrics: \n",
    "1. L2 Norm: Between consecutive topics assigned to all words\n",
    "2. KL-Divergence: \n",
    "    1. Between consecutive word-topic distributions\n",
    "    2. Between consecutive doc-topic distributions\n",
    "\n",
    "We do not expect these metrics to monotonically decrease. However, we can infer if the algorithm has reached stability if these metrics hover around certain numbers."
   ]
  },
  {
   "cell_type": "code",
   "execution_count": 11,
   "metadata": {},
   "outputs": [],
   "source": [
    "def KL_divergence(p, q):\n",
    "    return np.sum(p * np.log(p/q))\n",
    "\n",
    "def sym_KL_divergence(p, q):\n",
    "    return (KL_divergence(p, q) + KL_divergence(q, p)) / 2\n",
    "\n",
    "def avg_KL_divergence(prev, new):\n",
    "    avg_KL = 0\n",
    "    count = 0\n",
    "    for key in prev.keys():\n",
    "        avg_KL += sym_KL_divergence(np.array(prev[key]), np.array(new[key]))\n",
    "        count += 1\n",
    "    return avg_KL / count\n",
    "    \n",
    "def get_L2_norm(prev_topic_assignment, new_topic_assignment):\n",
    "    prev_topics = []\n",
    "    for doc, word_topics in prev_topic_assignment.items():\n",
    "        prev_topics += list(map(int, np.array(word_topics)[:, 1]))\n",
    "    new_topics = []\n",
    "    for doc, word_topics in new_topic_assignment.items():\n",
    "        new_topics += list(map(int, np.array(word_topics)[:, 1]))\n",
    "    assert len(prev_topics) == len(new_topics)\n",
    "    return np.linalg.norm(np.array(prev_topics) - np.array(new_topics))\n",
    "\n",
    "def evaluation(prev_topic_assignment, new_topic_assignment):\n",
    "    # checking through L2 norm between topic assignments\n",
    "    l2_norm = get_L2_norm(prev_topic_assignment, new_topic_assignment)\n",
    "\n",
    "    # checking through KL divergence between distributions\n",
    "    prev_beta, prev_theta = get_distributions(prev_topic_assignment)\n",
    "    new_beta, new_theta = get_distributions(new_topic_assignment)\n",
    "    beta_KL = avg_KL_divergence(prev_beta, new_beta)\n",
    "    theta_KL = avg_KL_divergence(prev_theta, new_theta)\n",
    "    return l2_norm, beta_KL, theta_KL"
   ]
  },
  {
   "cell_type": "code",
   "execution_count": 12,
   "metadata": {},
   "outputs": [],
   "source": [
    "def plotting(L2_NORM, BETA_KL, THETA_KL):\n",
    "    plt.figure(figsize=(20,5))\n",
    "    plt.subplot(131)\n",
    "    plt.plot(L2_NORM)\n",
    "    plt.title('L2_NORM')\n",
    "\n",
    "    plt.subplot(132)\n",
    "    plt.plot(BETA_KL)\n",
    "    plt.title('beta_KL')\n",
    "\n",
    "    plt.subplot(133)\n",
    "    plt.plot(THETA_KL)\n",
    "    plt.title('theta_KL')\n",
    "    plt.show()"
   ]
  },
  {
   "cell_type": "code",
   "execution_count": 13,
   "metadata": {},
   "outputs": [],
   "source": [
    "def run_LDA(processed_docs, n_topics, burnin_period_frac, n_iters, seed):\n",
    "    # burnin_period\n",
    "    burnin_iters = int(burnin_period_frac * n_iters)\n",
    "\n",
    "    # initial randomized topic assignment\n",
    "    topic_assignment = get_topic_assignment(processed_docs, n_topics, seed)\n",
    "\n",
    "    # store topic assignments at spaced intervals\n",
    "    resulting_topic_assignments = {}\n",
    "\n",
    "    L2_NORM = []\n",
    "    BETA_KL = []\n",
    "    THETA_KL = []\n",
    "    for n_iter in range(n_iters):\n",
    "        new_topic_assignment = get_Gibbs_sample(topic_assignment)\n",
    "        l2_norm, beta_KL, theta_KL = evaluation(topic_assignment, new_topic_assignment)\n",
    "        topic_assignment = new_topic_assignment\n",
    "\n",
    "        # storing values for plotting\n",
    "        L2_NORM.append(l2_norm)\n",
    "        BETA_KL.append(beta_KL)\n",
    "        THETA_KL.append(theta_KL)\n",
    "\n",
    "        if (n_iter+1) % 10==0:\n",
    "            print(f'Iteration {n_iter+1}: NORM: {l2_norm.round(3)} | beta_KL: {beta_KL} | theta_KL: {theta_KL}')\n",
    "\n",
    "            if n_iter>burnin_iters:\n",
    "                resulting_topic_assignments[n_iter] = topic_assignment\n",
    "\n",
    "    return resulting_topic_assignments, L2_NORM, BETA_KL, THETA_KL"
   ]
  },
  {
   "cell_type": "code",
   "execution_count": 14,
   "metadata": {},
   "outputs": [],
   "source": [
    "def get_final_distributions(resulting_topic_assignments):\n",
    "    betas = []\n",
    "    thetas = []\n",
    "    for n_iter, topic_assignment in resulting_topic_assignments.items():\n",
    "        beta, theta = get_distributions(topic_assignment)\n",
    "        betas.append(beta)\n",
    "        thetas.append(theta)\n",
    "\n",
    "    # expected distributions\n",
    "    avg_beta = dict(zip(range(n_topics), (sum(map(lambda x: np.array(list(x.values())), betas)) / len(betas)).tolist()))\n",
    "    avg_theta = dict(zip(docs, (sum(map(lambda x: np.array(list(x.values())), thetas)) / len(thetas)).tolist()))\n",
    "    return avg_beta, avg_theta"
   ]
  },
  {
   "cell_type": "code",
   "execution_count": 15,
   "metadata": {},
   "outputs": [],
   "source": [
    "def save_config():\n",
    "    config = {}\n",
    "    config['n_iters'] = n_iters\n",
    "    config['n_docs'] = n_docs\n",
    "    config['n_topics'] = n_topics\n",
    "    config['eta'] = eta\n",
    "    config['alpha'] = alpha\n",
    "    config['burnin_period_frac'] = burnin_period_frac\n",
    "    config['seed'] = seed\n",
    "      \n",
    "    with open('config.json','w') as f:\n",
    "        json.dump(config, f, indent=4)      \n",
    "\n",
    "def save_distributions(avg_beta, avg_theta):\n",
    "    with open('word_topic_distributions.json','w') as f:\n",
    "        json.dump(avg_beta, f, indent=4)\n",
    "    with open('doc_topic_distributions.json','w') as f:\n",
    "        json.dump(avg_theta, f, indent=4)   "
   ]
  },
  {
   "cell_type": "code",
   "execution_count": 16,
   "metadata": {},
   "outputs": [
    {
     "name": "stdout",
     "output_type": "stream",
     "text": [
      "Running LDA for 200 iterations..\n",
      "Iteration 10: NORM: 220.731 | beta_KL: 0.037470153331871224 | theta_KL: 0.012945781227155511\n",
      "Iteration 20: NORM: 126.554 | beta_KL: 0.010136588767132259 | theta_KL: 0.005625893624848692\n",
      "Iteration 30: NORM: 80.61 | beta_KL: 0.003600989739141805 | theta_KL: 0.0006233415885024239\n",
      "Iteration 40: NORM: 62.936 | beta_KL: 0.00185472500607855 | theta_KL: 0.00031009333943050334\n",
      "Iteration 50: NORM: 61.863 | beta_KL: 0.0016911979672609323 | theta_KL: 0.0005499610404210069\n",
      "Iteration 60: NORM: 48.062 | beta_KL: 0.0013111133738571298 | theta_KL: 0.000909483054113363\n",
      "Iteration 70: NORM: 21.354 | beta_KL: 0.00038328896702224816 | theta_KL: 0.00035663429095143383\n",
      "Iteration 80: NORM: 19.748 | beta_KL: 0.00029014863490073886 | theta_KL: 0.0005792360640152591\n",
      "Iteration 90: NORM: 17.464 | beta_KL: 0.0002610604568013923 | theta_KL: 0.0004570080243337657\n",
      "Iteration 100: NORM: 18.868 | beta_KL: 0.00043605769927121776 | theta_KL: 0.0004549423813567489\n",
      "Iteration 110: NORM: 23.409 | beta_KL: 0.0005769360705068908 | theta_KL: 0.00048789524354646556\n",
      "Iteration 120: NORM: 20.421 | beta_KL: 0.00035645476660021525 | theta_KL: 0.0002370979143852292\n",
      "Iteration 130: NORM: 25.534 | beta_KL: 0.0004642993410844562 | theta_KL: 0.0003878604250195364\n",
      "Iteration 140: NORM: 20.616 | beta_KL: 0.00041929447422010943 | theta_KL: 0.0004453072795501499\n",
      "Iteration 150: NORM: 24.839 | beta_KL: 0.000408331653293992 | theta_KL: 0.00030151913204397453\n",
      "Iteration 160: NORM: 20.025 | beta_KL: 0.000421758417668411 | theta_KL: 0.0005897146805113155\n",
      "Iteration 170: NORM: 17.0 | beta_KL: 0.00019576081104030074 | theta_KL: 0.00018331415351933395\n",
      "Iteration 180: NORM: 19.105 | beta_KL: 0.00031492803968732094 | theta_KL: 0.00035087257403269075\n",
      "Iteration 190: NORM: 16.523 | beta_KL: 0.0003055916605809175 | theta_KL: 0.00044668602683235064\n",
      "Iteration 200: NORM: 19.723 | beta_KL: 0.0004349075434404045 | theta_KL: 0.0005313195961166754\n",
      "\n",
      "Plotting convergence plot..\n"
     ]
    },
    {
     "data": {
      "image/png": "[encoded data removed]",
      "text/plain": [
       "<Figure size 1440x360 with 3 Axes>"
      ]
     },
     "metadata": {
      "needs_background": "light"
     },
     "output_type": "display_data"
    },
    {
     "name": "stdout",
     "output_type": "stream",
     "text": [
      "Taking expectation of distributions..\n",
      "Saving config..\n",
      "Saving results..\n",
      "DONE!\n"
     ]
    }
   ],
   "source": [
    "print(f'Running LDA for {n_iters} iterations..')\n",
    "resulting_topic_assignments, L2_NORM, BETA_KL, THETA_KL = run_LDA(processed_docs, n_topics, burnin_period_frac, n_iters, seed)\n",
    "\n",
    "print('\\nPlotting convergence plot..')\n",
    "plotting(L2_NORM, BETA_KL, THETA_KL)\n",
    "\n",
    "print('Taking expectation of distributions..')\n",
    "avg_beta, avg_theta = get_final_distributions(resulting_topic_assignments)\n",
    "\n",
    "print('Saving config..')\n",
    "save_config()\n",
    "\n",
    "print('Saving results..')\n",
    "save_distributions(avg_beta, avg_theta)\n",
    "print('DONE!')"
   ]
  },
  {
   "cell_type": "code",
   "execution_count": null,
   "metadata": {},
   "outputs": [],
   "source": []
  }
 ],
 "metadata": {
  "interpreter": {
   "hash": "951daa5e1959839fcb325fff331f52e72634f7a1be998f6081ed7f433b63f1b3"
  },
  "kernelspec": {
   "display_name": "Python 3.8.11 64-bit ('base': conda)",
   "language": "python",
   "name": "python3"
  },
  "language_info": {
   "codemirror_mode": {
    "name": "ipython",
    "version": 3
   },
   "file_extension": ".py",
   "mimetype": "text/x-python",
   "name": "python",
   "nbconvert_exporter": "python",
   "pygments_lexer": "ipython3",
   "version": "3.8.11"
  },
  "orig_nbformat": 4
 },
 "nbformat": 4,
 "nbformat_minor": 2
}
